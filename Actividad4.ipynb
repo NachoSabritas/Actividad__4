{
  "nbformat": 4,
  "nbformat_minor": 0,
  "metadata": {
    "colab": {
      "provenance": [],
      "include_colab_link": true
    },
    "kernelspec": {
      "name": "python3",
      "display_name": "Python 3"
    },
    "language_info": {
      "name": "python"
    }
  },
  "cells": [
    {
      "cell_type": "markdown",
      "metadata": {
        "id": "view-in-github",
        "colab_type": "text"
      },
      "source": [
        "<a href=\"https://colab.research.google.com/github/NachoSabritas/Actividad__4/blob/main/Actividad4.ipynb\" target=\"_parent\"><img src=\"https://colab.research.google.com/assets/colab-badge.svg\" alt=\"Open In Colab\"/></a>"
      ]
    },
    {
      "cell_type": "code",
      "execution_count": null,
      "metadata": {
        "id": "InHb6R_IItg6"
      },
      "outputs": [],
      "source": [
        "#Importamos las librerias pandas, numpy y matplotlib respectivamente\n",
        "import pandas as pd\n",
        "import numpy as np\n",
        "import matplotlib.pyplot as plt\n",
        "import scipy.special as special\n",
        "from scipy.optimize import curve_fit\n",
        "import seaborn as sns\n",
        "from sklearn.metrics import r2_score\n",
        "from sklearn.model_selection import train_test_split\n",
        "from sklearn.preprocessing import StandardScaler"
      ]
    },
    {
      "cell_type": "code",
      "source": [
        "#Cargar archivo csv desde equipo\n",
        "from google.colab import files\n",
        "files.upload()"
      ],
      "metadata": {
        "id": "4THscbQuJyXX"
      },
      "execution_count": null,
      "outputs": []
    },
    {
      "cell_type": "code",
      "source": [
        "#Carga desde un archivo .csv sin indice\n",
        "Retailer= pd.read_excel('microretailer_mit_lift_lab_actualizado.xlsx')"
      ],
      "metadata": {
        "id": "GKi-jPhEJ0bQ"
      },
      "execution_count": null,
      "outputs": []
    },
    {
      "cell_type": "code",
      "source": [
        "#Verificamos información del Dataframe\n",
        "Retailer.info()"
      ],
      "metadata": {
        "id": "j1g9wdrlJ2Ya"
      },
      "execution_count": null,
      "outputs": []
    },
    {
      "cell_type": "code",
      "source": [
        "#Creamos copia del dataframe\n",
        "data1=Retailer.copy()\n",
        "data1"
      ],
      "metadata": {
        "id": "mK9JBnm8J4BK"
      },
      "execution_count": null,
      "outputs": []
    },
    {
      "cell_type": "markdown",
      "source": [
        "**PREPROCESAMIENTO DE DATOS**"
      ],
      "metadata": {
        "id": "4mCoFssnLG5r"
      }
    },
    {
      "cell_type": "markdown",
      "source": [
        "**Valores nulos**"
      ],
      "metadata": {
        "id": "99Eq66S4LJzK"
      }
    },
    {
      "cell_type": "code",
      "source": [
        "#Identificar valores nulos por columna\n",
        "valores_nulos=data1.isnull().sum()\n",
        "valores_nulos"
      ],
      "metadata": {
        "id": "m358x3FjJ7LV"
      },
      "execution_count": null,
      "outputs": []
    },
    {
      "cell_type": "code",
      "source": [
        "#Realizamos una copia del dataframe\n",
        "data2=data1.copy()"
      ],
      "metadata": {
        "id": "Jt-nbyuSJ7-E"
      },
      "execution_count": null,
      "outputs": []
    },
    {
      "cell_type": "code",
      "source": [
        "#Utilizamos un metodo con el que sustituimos los valores nulos que esten por detras de valores no nulos por ese mismo valor\n",
        "data2= data1.fillna(method=\"bfill\")\n",
        "data2"
      ],
      "metadata": {
        "id": "kDZvV_TMJ8Av"
      },
      "execution_count": null,
      "outputs": []
    },
    {
      "cell_type": "code",
      "source": [
        "#Corroboramos valores nulos\n",
        "valores_nulos=data2.isnull().sum()\n",
        "valores_nulos"
      ],
      "metadata": {
        "id": "rft-kDQhJ8C-"
      },
      "execution_count": null,
      "outputs": []
    },
    {
      "cell_type": "code",
      "source": [
        "#Debido a que todavia nos quedan unos cuantos valores nulos en el dataframe, utilizamos el metodo \"ffill\" para cambiar los valores nulos que esten delante de un valore no nulo para cambiarlo por el mismo valor\n",
        "data3= data2.fillna(method='ffill')\n",
        "data3"
      ],
      "metadata": {
        "id": "56LdWtReJ8FY"
      },
      "execution_count": null,
      "outputs": []
    },
    {
      "cell_type": "code",
      "source": [
        "#Corroboramos valores nulos\n",
        "valores_nulos=data3.isnull().sum()\n",
        "valores_nulos"
      ],
      "metadata": {
        "id": "jcFTHFqMJ8H5"
      },
      "execution_count": null,
      "outputs": []
    },
    {
      "cell_type": "code",
      "source": [
        "#En caso de que resten unos cuantos valores nulos en el dataframe, utilizamos el metodo de cambiar los valores nulos por un string en concreto para seguridad\n",
        "data4= data3.fillna('no valido')\n",
        "data4"
      ],
      "metadata": {
        "id": "w-QIequwJ8K2"
      },
      "execution_count": null,
      "outputs": []
    },
    {
      "cell_type": "markdown",
      "source": [
        "**Outliers**"
      ],
      "metadata": {
        "id": "wmD1SOD5LOO0"
      }
    },
    {
      "cell_type": "code",
      "source": [
        "#Creamos otra copia del dataframe\n",
        "data5=data4.copy()"
      ],
      "metadata": {
        "id": "kkMF99XoKGO9"
      },
      "execution_count": null,
      "outputs": []
    },
    {
      "cell_type": "code",
      "source": [
        "#Realizamos un filtro por filas donde se incluyan unicamente los valores cuantitativos\n",
        "cuantitativas=data5.iloc[:,[13,14,16,21,22,29,31,33,42,49,51,56,57,58,59,60,78,90]] #filas no consecutivas\n",
        "cuantitativas"
      ],
      "metadata": {
        "id": "dc88322tKGRr"
      },
      "execution_count": null,
      "outputs": []
    },
    {
      "cell_type": "code",
      "source": [
        "#Realizamos un filtro por filas donde se incluyan unicamente los valores cualitativas\n",
        "cualitativas=data2.iloc[:,[0,1,2,3,4,5,6,7,8,9,10,11,12,15,17,18,19,20,23,24,25,26,27,28,30,32,34,35,36,37,38,39,40,41,42,43,44,45,46,47,48,50,52,53,54,55,61,62,63,64,65,66,67,68,69,70,71,72,73,74,75,76,77,79,80,81,82,83,84,85,86,87,88,89,91,92,93,94,95,96,97,98,99,100,101,102,103,104,105]] #filas no consecutivas\n",
        "cualitativas"
      ],
      "metadata": {
        "id": "wsy8xNShKGUC"
      },
      "execution_count": null,
      "outputs": []
    },
    {
      "cell_type": "code",
      "source": [
        "#Corroboramos valores nulos\n",
        "valores_nulos=cuantitativas.isnull().sum()\n",
        "valores_nulos"
      ],
      "metadata": {
        "id": "Lz69qz3IKGWx"
      },
      "execution_count": null,
      "outputs": []
    },
    {
      "cell_type": "code",
      "source": [
        "#Aplicanmos desviación estandar para encontrar valores extremos\n",
        "y=cuantitativas\n",
        "Limite_Superior= y.mean() +3*y.std()\n",
        "Limite_Inferior= y.mean() -3*y.std()\n",
        "print(\"Limite superior permitido\", Limite_Superior)\n",
        "print(\"Limite inferior permitido\", Limite_Inferior)"
      ],
      "metadata": {
        "id": "xyyflkUuKGZc"
      },
      "execution_count": null,
      "outputs": []
    },
    {
      "cell_type": "code",
      "source": [
        "#Encontramos Outliers del Dataframe\n",
        "outliers= cuantitativas[(y>Limite_Superior)|(y<Limite_Inferior)]\n",
        "outliers"
      ],
      "metadata": {
        "id": "1HeJnPZdKGb3"
      },
      "execution_count": null,
      "outputs": []
    },
    {
      "cell_type": "code",
      "source": [
        "#Obtenemos datos limpios\n",
        "data5= cuantitativas[(y<=Limite_Superior)&(y>=Limite_Inferior)]\n",
        "data5"
      ],
      "metadata": {
        "id": "wPhZAy2dKRfG"
      },
      "execution_count": null,
      "outputs": []
    },
    {
      "cell_type": "code",
      "source": [
        "#Revisamos valores atípicos (nulos) del dataframe4\n",
        "valores_nulos=data5.isnull().sum()\n",
        "valores_nulos"
      ],
      "metadata": {
        "id": "Jd5lptSsKRhk"
      },
      "execution_count": null,
      "outputs": []
    },
    {
      "cell_type": "code",
      "source": [
        "#Reemplazamos valores atípicos (nulos) del dataframe con \"mean\"\n",
        "#Realizamos una copia del dataframe\n",
        "data_clean=data5.copy()\n",
        "data_clean=data_clean.fillna(round(data3.mean(),1))\n",
        "data_clean"
      ],
      "metadata": {
        "id": "x8OHOyTMKRkL"
      },
      "execution_count": null,
      "outputs": []
    },
    {
      "cell_type": "code",
      "source": [
        "#Corroboramos valores nulos del dataframe LIMPIO\n",
        "valores_nulos=data_clean.isnull().sum()\n",
        "valores_nulos"
      ],
      "metadata": {
        "id": "d1jiQ_5sKRmj"
      },
      "execution_count": null,
      "outputs": []
    },
    {
      "cell_type": "code",
      "source": [
        "#Unimos las columnas cuantitativas y cualitativas en un mismo dataframe\n",
        "Datos_limpios = pd.concat([cualitativas, data_clean], axis=1)\n",
        "Datos_limpios"
      ],
      "metadata": {
        "id": "7JiU3zliKRpC"
      },
      "execution_count": null,
      "outputs": []
    },
    {
      "cell_type": "code",
      "source": [
        "#Convertir Dataframe a CSV\n",
        "Datos_limpios.to_csv(\"Datos_limpios_Micro_retailer_actualizado.csv\")"
      ],
      "metadata": {
        "id": "1hzAHG6VKaDt"
      },
      "execution_count": null,
      "outputs": []
    },
    {
      "cell_type": "code",
      "source": [
        "#descargar archivo filtrado en csv\n",
        "from google.colab import files\n",
        "\n",
        "files.download(\"Datos_limpios_Micro_retailer_actualizado.csv\")"
      ],
      "metadata": {
        "id": "QQt9AS_MKaGY",
        "colab": {
          "base_uri": "https://localhost:8080/",
          "height": 34
        },
        "outputId": "02eb1153-cda6-40dd-82ae-67b82074197d"
      },
      "execution_count": null,
      "outputs": [
        {
          "output_type": "display_data",
          "data": {
            "text/plain": [
              "<IPython.core.display.Javascript object>"
            ],
            "application/javascript": [
              "\n",
              "    async function download(id, filename, size) {\n",
              "      if (!google.colab.kernel.accessAllowed) {\n",
              "        return;\n",
              "      }\n",
              "      const div = document.createElement('div');\n",
              "      const label = document.createElement('label');\n",
              "      label.textContent = `Downloading \"${filename}\": `;\n",
              "      div.appendChild(label);\n",
              "      const progress = document.createElement('progress');\n",
              "      progress.max = size;\n",
              "      div.appendChild(progress);\n",
              "      document.body.appendChild(div);\n",
              "\n",
              "      const buffers = [];\n",
              "      let downloaded = 0;\n",
              "\n",
              "      const channel = await google.colab.kernel.comms.open(id);\n",
              "      // Send a message to notify the kernel that we're ready.\n",
              "      channel.send({})\n",
              "\n",
              "      for await (const message of channel.messages) {\n",
              "        // Send a message to notify the kernel that we're ready.\n",
              "        channel.send({})\n",
              "        if (message.buffers) {\n",
              "          for (const buffer of message.buffers) {\n",
              "            buffers.push(buffer);\n",
              "            downloaded += buffer.byteLength;\n",
              "            progress.value = downloaded;\n",
              "          }\n",
              "        }\n",
              "      }\n",
              "      const blob = new Blob(buffers, {type: 'application/binary'});\n",
              "      const a = document.createElement('a');\n",
              "      a.href = window.URL.createObjectURL(blob);\n",
              "      a.download = filename;\n",
              "      div.appendChild(a);\n",
              "      a.click();\n",
              "      div.remove();\n",
              "    }\n",
              "  "
            ]
          },
          "metadata": {}
        },
        {
          "output_type": "display_data",
          "data": {
            "text/plain": [
              "<IPython.core.display.Javascript object>"
            ],
            "application/javascript": [
              "download(\"download_f235554e-d76b-46e7-977d-3b476e6d1d02\", \"Datos_limpios_Micro_retailer_actualizado.csv\", 515960)"
            ]
          },
          "metadata": {}
        }
      ]
    },
    {
      "cell_type": "markdown",
      "source": [
        "**ACTIVIDAD 4**"
      ],
      "metadata": {
        "id": "DzSs7uZ9LYuU"
      }
    },
    {
      "cell_type": "markdown",
      "source": [
        "**Regresión lineal**"
      ],
      "metadata": {
        "id": "pM7-nzWoK0IU"
      }
    },
    {
      "cell_type": "code",
      "source": [
        "#Cargar archivo csv desde equipo\n",
        "from google.colab import files\n",
        "files.upload()"
      ],
      "metadata": {
        "id": "GGtgbEniLeq8"
      },
      "execution_count": null,
      "outputs": []
    },
    {
      "cell_type": "code",
      "source": [
        "#Carga desde un archivo .csv sin indice\n",
        "df= pd.read_csv('Datos_limpios_Micro_retailer_actualizado.csv')"
      ],
      "metadata": {
        "id": "SQA8sF_JM01u"
      },
      "execution_count": null,
      "outputs": []
    },
    {
      "cell_type": "markdown",
      "source": [
        "1"
      ],
      "metadata": {
        "id": "K5ngQ4KUy-FQ"
      }
    },
    {
      "cell_type": "code",
      "source": [
        "#Se grafican mapas de dispersion de las 3 variables: '97_number_of_customers_in_store', '2_current_permanent_employees' y '145_number_direct_competitors'\n",
        "from turtle import color\n",
        "\n",
        "sns.scatterplot(x='103_number_own_fridges', y='268_number_fridges', color='blue', data=df)\n",
        "sns.scatterplot(x='172_supplier_frequency', y='268_number_fridges', color='red', data=df)\n",
        "sns.scatterplot(x='145_number_direct_competitors', y='268_number_fridges', color='yellow', data=df)"
      ],
      "metadata": {
        "id": "GaIF7akQL-xO",
        "colab": {
          "base_uri": "https://localhost:8080/",
          "height": 297
        },
        "outputId": "abd20914-c449-43f2-d26e-0d8f6f90e863"
      },
      "execution_count": null,
      "outputs": [
        {
          "output_type": "execute_result",
          "data": {
            "text/plain": [
              "<matplotlib.axes._subplots.AxesSubplot at 0x7f6bca398d90>"
            ]
          },
          "metadata": {},
          "execution_count": 169
        },
        {
          "output_type": "display_data",
          "data": {
            "text/plain": [
              "<Figure size 432x288 with 1 Axes>"
            ],
            "image/png": "[encoded data removed]"
          },
          "metadata": {
            "needs_background": "light"
          }
        }
      ]
    },
    {
      "cell_type": "code",
      "source": [
        "#Declaramos las variables dependientes e independientes para la regresión lineal.\n",
        "#Vars_Indep= df[['alcohol', 'speeding', 'no_previous']]\n",
        "Vars_Indep= df[['103_number_own_fridges', '172_supplier_frequency', '145_number_direct_competitors']]\n",
        "Var_Dep= df['268_number_fridges']"
      ],
      "metadata": {
        "id": "T1xiVvGRL-4x"
      },
      "execution_count": null,
      "outputs": []
    },
    {
      "cell_type": "code",
      "source": [
        "#Se define model como la función de regresión lineal\n",
        "from sklearn.linear_model import LinearRegression\n",
        "model= LinearRegression()"
      ],
      "metadata": {
        "id": "XCwyluIjL-8N"
      },
      "execution_count": null,
      "outputs": []
    },
    {
      "cell_type": "code",
      "source": [
        "#Verificamos la funcion relacionada al modelo\n",
        "type(model)"
      ],
      "metadata": {
        "id": "Wj_vXrKQRI6A",
        "colab": {
          "base_uri": "https://localhost:8080/"
        },
        "outputId": "71608002-2596-4544-b7be-7ffd809b84e2"
      },
      "execution_count": null,
      "outputs": [
        {
          "output_type": "execute_result",
          "data": {
            "text/plain": [
              "sklearn.linear_model._base.LinearRegression"
            ]
          },
          "metadata": {},
          "execution_count": 172
        }
      ]
    },
    {
      "cell_type": "code",
      "source": [
        "#Ajustamos el modelo con las variables antes declaradas\n",
        "model.fit(X=Vars_Indep, y=Var_Dep)"
      ],
      "metadata": {
        "id": "xTszXUyaRI82",
        "colab": {
          "base_uri": "https://localhost:8080/"
        },
        "outputId": "1639d933-73f0-4c8d-d16d-36d4410dd467"
      },
      "execution_count": null,
      "outputs": [
        {
          "output_type": "execute_result",
          "data": {
            "text/plain": [
              "LinearRegression()"
            ]
          },
          "metadata": {},
          "execution_count": 173
        }
      ]
    },
    {
      "cell_type": "code",
      "source": [
        "#Verificamos los coeficientes obtenidos para el modelo ajustado\n",
        "model.__dict__"
      ],
      "metadata": {
        "id": "RyUqpchSRI_W",
        "colab": {
          "base_uri": "https://localhost:8080/"
        },
        "outputId": "8906349c-4596-43f3-d13b-9c3ac17973cc"
      },
      "execution_count": null,
      "outputs": [
        {
          "output_type": "execute_result",
          "data": {
            "text/plain": [
              "{'fit_intercept': True,\n",
              " 'normalize': 'deprecated',\n",
              " 'copy_X': True,\n",
              " 'n_jobs': None,\n",
              " 'positive': False,\n",
              " 'feature_names_in_': array(['103_number_own_fridges', '172_supplier_frequency',\n",
              "        '145_number_direct_competitors'], dtype=object),\n",
              " 'n_features_in_': 3,\n",
              " 'coef_': array([0.07666211, 0.08302529, 0.01647015]),\n",
              " '_residues': 993.3450640597509,\n",
              " 'rank_': 3,\n",
              " 'singular_': array([60.18449373, 44.29825716, 29.12940366]),\n",
              " 'intercept_': 0.9549294957397705}"
            ]
          },
          "metadata": {},
          "execution_count": 174
        }
      ]
    },
    {
      "cell_type": "code",
      "source": [
        "#Evaluamos la eficiencia del modelo obtenido por medio del coeficiente R^2 Determinación\n",
        "model.score(Vars_Indep,Var_Dep)"
      ],
      "metadata": {
        "id": "6uju5tKtRJB4",
        "colab": {
          "base_uri": "https://localhost:8080/"
        },
        "outputId": "34537aaf-4bcb-4b24-a3b5-69875b90d2b0"
      },
      "execution_count": null,
      "outputs": [
        {
          "output_type": "execute_result",
          "data": {
            "text/plain": [
              "0.02056001571711341"
            ]
          },
          "metadata": {},
          "execution_count": 175
        }
      ]
    },
    {
      "cell_type": "code",
      "source": [
        "#Predecimos los valores de total de accidentes a partir de las variables: 'alcohol', 'speeding' y 'no_previous' \n",
        "y_pred= model.predict(X=df[['103_number_own_fridges', '172_supplier_frequency', '145_number_direct_competitors']])\n",
        "y_pred"
      ],
      "metadata": {
        "id": "I0vZ_5ALRW8S"
      },
      "execution_count": null,
      "outputs": []
    },
    {
      "cell_type": "code",
      "source": [
        "#Insertamos la columna de predicciones en el Dataframe\n",
        "df.insert(0, 'Predicciones', y_pred)\n",
        "df"
      ],
      "metadata": {
        "id": "x3g0lv3sRW_V"
      },
      "execution_count": null,
      "outputs": []
    },
    {
      "cell_type": "code",
      "source": [
        "#Visualizamos la gráfica comparativa entre el total real y el total predecido\n",
        "\n",
        "sns.scatterplot(x= '103_number_own_fridges', y= '268_number_fridges', color= 'blue', data=df)\n",
        "sns.scatterplot(x= '103_number_own_fridges', y= 'Predicciones', color= 'red', data=df)"
      ],
      "metadata": {
        "id": "sXjPC1tBRXCT",
        "colab": {
          "base_uri": "https://localhost:8080/",
          "height": 297
        },
        "outputId": "f398433d-041b-4997-936a-88432f2ee175"
      },
      "execution_count": null,
      "outputs": [
        {
          "output_type": "execute_result",
          "data": {
            "text/plain": [
              "<matplotlib.axes._subplots.AxesSubplot at 0x7f6bca2b8210>"
            ]
          },
          "metadata": {},
          "execution_count": 178
        },
        {
          "output_type": "display_data",
          "data": {
            "text/plain": [
              "<Figure size 432x288 with 1 Axes>"
            ],
            "image/png": "[encoded data removed]"
          },
          "metadata": {
            "needs_background": "light"
          }
        }
      ]
    },
    {
      "cell_type": "code",
      "source": [
        "#Visualizamos la gráfica comparativa entre el total real y el total predecido\n",
        "\n",
        "sns.scatterplot(x= '172_supplier_frequency', y= '268_number_fridges', color= 'blue', data=df)\n",
        "sns.scatterplot(x= '172_supplier_frequency', y= 'Predicciones', color= 'red', data=df)"
      ],
      "metadata": {
        "id": "YDEuUapjRXE_",
        "colab": {
          "base_uri": "https://localhost:8080/",
          "height": 297
        },
        "outputId": "c7b8839c-082a-4805-bef8-a88ddd25e8a1"
      },
      "execution_count": null,
      "outputs": [
        {
          "output_type": "execute_result",
          "data": {
            "text/plain": [
              "<matplotlib.axes._subplots.AxesSubplot at 0x7f6bca2a4ed0>"
            ]
          },
          "metadata": {},
          "execution_count": 179
        },
        {
          "output_type": "display_data",
          "data": {
            "text/plain": [
              "<Figure size 432x288 with 1 Axes>"
            ],
            "image/png": "[encoded data removed]"
          },
          "metadata": {
            "needs_background": "light"
          }
        }
      ]
    },
    {
      "cell_type": "code",
      "source": [
        "#Visualizamos la gráfica comparativa entre el total real y el total predecido\n",
        "\n",
        "sns.scatterplot(x= '145_number_direct_competitors', y= '268_number_fridges', color= 'blue', data=df)\n",
        "sns.scatterplot(x= '145_number_direct_competitors', y= 'Predicciones', color= 'red', data=df)"
      ],
      "metadata": {
        "id": "Qh1AUdQkRzgG",
        "colab": {
          "base_uri": "https://localhost:8080/",
          "height": 297
        },
        "outputId": "832d7262-b88f-4631-95e2-3f9ed2fd8bec"
      },
      "execution_count": null,
      "outputs": [
        {
          "output_type": "execute_result",
          "data": {
            "text/plain": [
              "<matplotlib.axes._subplots.AxesSubplot at 0x7f6bca406150>"
            ]
          },
          "metadata": {},
          "execution_count": 124
        },
        {
          "output_type": "display_data",
          "data": {
            "text/plain": [
              "<Figure size 432x288 with 1 Axes>"
            ],
            "image/png": "[encoded data removed]"
          },
          "metadata": {
            "needs_background": "light"
          }
        }
      ]
    },
    {
      "cell_type": "code",
      "source": [
        "#Corroboramos cual es el coeficiente de Determinación de nuestro modelo\n",
        "coef_Deter=model.score(X=Vars_Indep, y=Var_Dep)\n",
        "coef_Deter"
      ],
      "metadata": {
        "id": "aJRE4016SIlt",
        "colab": {
          "base_uri": "https://localhost:8080/"
        },
        "outputId": "4b2b23e1-294a-42f1-e381-3d2c487c5b73"
      },
      "execution_count": null,
      "outputs": [
        {
          "output_type": "execute_result",
          "data": {
            "text/plain": [
              "0.02056001571711341"
            ]
          },
          "metadata": {},
          "execution_count": 180
        }
      ]
    },
    {
      "cell_type": "code",
      "source": [
        "#Corroboramos cual es el coeficiente de Correlación de nuestro modelo\n",
        "coef_Correl=np.sqrt(coef_Deter)\n",
        "coef_Correl"
      ],
      "metadata": {
        "id": "5DAM-daXSIoX",
        "colab": {
          "base_uri": "https://localhost:8080/"
        },
        "outputId": "ce276428-099b-4520-c517-e307814848e6"
      },
      "execution_count": null,
      "outputs": [
        {
          "output_type": "execute_result",
          "data": {
            "text/plain": [
              "0.14338764143786387"
            ]
          },
          "metadata": {},
          "execution_count": 181
        }
      ]
    },
    {
      "cell_type": "markdown",
      "source": [
        "2\n"
      ],
      "metadata": {
        "id": "U8CwuqXLzttV"
      }
    },
    {
      "cell_type": "code",
      "source": [
        "#Se grafican mapas de dispersion de las 3 variables: '97_number_of_customers_in_store', '2_current_permanent_employees' y '145_number_direct_competitors'\n",
        "from turtle import color\n",
        "\n",
        "sns.scatterplot(x='103_number_own_fridges', y='268_number_fridges', color='blue', data=df)\n",
        "sns.scatterplot(x='172_supplier_frequency', y='268_number_fridges', color='red', data=df)\n",
        "sns.scatterplot(x='97_number_of_customers_in_store', y='268_number_fridges', color='yellow', data=df)"
      ],
      "metadata": {
        "id": "ihHZAO190aLc"
      },
      "execution_count": null,
      "outputs": []
    },
    {
      "cell_type": "code",
      "source": [
        "#Declaramos las variables dependientes e independientes para la regresión lineal.\n",
        "#Vars_Indep= df[['alcohol', 'speeding', 'no_previous']]\n",
        "Vars_Indep= df[['103_number_own_fridges', '172_supplier_frequency', '97_number_of_customers_in_store']]\n",
        "Var_Dep= df['268_number_fridges']"
      ],
      "metadata": {
        "id": "bH_6vkxe0vcY"
      },
      "execution_count": null,
      "outputs": []
    },
    {
      "cell_type": "code",
      "source": [
        "#Se define model como la función de regresión lineal\n",
        "from sklearn.linear_model import LinearRegression\n",
        "model= LinearRegression()"
      ],
      "metadata": {
        "id": "yVZDNW6s04lH"
      },
      "execution_count": null,
      "outputs": []
    },
    {
      "cell_type": "code",
      "source": [
        "#Verificamos la funcion relacionada al modelo\n",
        "type(model)"
      ],
      "metadata": {
        "id": "Nu_QkSx_07X6"
      },
      "execution_count": null,
      "outputs": []
    },
    {
      "cell_type": "code",
      "source": [
        "#Ajustamos el modelo con las variables antes declaradas\n",
        "model.fit(X=Vars_Indep, y=Var_Dep)"
      ],
      "metadata": {
        "id": "cWtouACl1AVE"
      },
      "execution_count": null,
      "outputs": []
    },
    {
      "cell_type": "code",
      "source": [
        "#Verificamos los coeficientes obtenidos para el modelo ajustado\n",
        "model.__dict__"
      ],
      "metadata": {
        "id": "-qYgsvpC1Dab"
      },
      "execution_count": null,
      "outputs": []
    },
    {
      "cell_type": "code",
      "source": [
        "#Evaluamos la eficiencia del modelo obtenido por medio del coeficiente R^2 Determinación\n",
        "model.score(Vars_Indep,Var_Dep)"
      ],
      "metadata": {
        "id": "z4O-6cmE1Hbq"
      },
      "execution_count": null,
      "outputs": []
    },
    {
      "cell_type": "code",
      "source": [
        "#Predecimos los valores de total de accidentes a partir de las variables: 'alcohol', 'speeding' y 'no_previous' \n",
        "y_pred= model.predict(X=df[['103_number_own_fridges', '172_supplier_frequency', '97_number_of_customers_in_store']])\n",
        "y_pred"
      ],
      "metadata": {
        "id": "7oRZ-4P61MXY"
      },
      "execution_count": null,
      "outputs": []
    },
    {
      "cell_type": "code",
      "source": [
        "#Insertamos la columna de predicciones en el Dataframe\n",
        "df.insert(0, 'Predicciones2', y_pred)\n",
        "df"
      ],
      "metadata": {
        "id": "QYLjLthn1RuL"
      },
      "execution_count": null,
      "outputs": []
    },
    {
      "cell_type": "code",
      "source": [
        "#Visualizamos la gráfica comparativa entre el total real y el total predecido\n",
        "\n",
        "sns.scatterplot(x= '103_number_own_fridges', y= '268_number_fridges', color= 'blue', data=df)\n",
        "sns.scatterplot(x= '103_number_own_fridges', y= 'Predicciones2', color= 'red', data=df)"
      ],
      "metadata": {
        "id": "J3j9Sswl1cCj"
      },
      "execution_count": null,
      "outputs": []
    },
    {
      "cell_type": "code",
      "source": [
        "#Visualizamos la gráfica comparativa entre el total real y el total predecido\n",
        "\n",
        "sns.scatterplot(x= '172_supplier_frequency', y= '268_number_fridges', color= 'blue', data=df)\n",
        "sns.scatterplot(x= '172_supplier_frequency', y= 'Predicciones2', color= 'red', data=df)"
      ],
      "metadata": {
        "id": "y8HA6PNU1jS9"
      },
      "execution_count": null,
      "outputs": []
    },
    {
      "cell_type": "code",
      "source": [
        "#Visualizamos la gráfica comparativa entre el total real y el total predecido\n",
        "\n",
        "sns.scatterplot(x= '97_number_of_customers_in_store', y= '268_number_fridges', color= 'blue', data=df)\n",
        "sns.scatterplot(x= '97_number_of_customers_in_store', y= 'Predicciones2', color= 'red', data=df)"
      ],
      "metadata": {
        "id": "bT1uz_Qy1oA9"
      },
      "execution_count": null,
      "outputs": []
    },
    {
      "cell_type": "code",
      "source": [
        "#Corroboramos cual es el coeficiente de Determinación de nuestro modelo\n",
        "coef_Deter=model.score(X=Vars_Indep, y=Var_Dep)\n",
        "coef_Deter"
      ],
      "metadata": {
        "id": "tsu7az0a1xqr"
      },
      "execution_count": null,
      "outputs": []
    },
    {
      "cell_type": "code",
      "source": [
        "#Corroboramos cual es el coeficiente de Correlación de nuestro modelo\n",
        "coef_Correl=np.sqrt(coef_Deter)\n",
        "coef_Correl"
      ],
      "metadata": {
        "id": "UshFvBDF106x"
      },
      "execution_count": null,
      "outputs": []
    },
    {
      "cell_type": "markdown",
      "source": [
        "3"
      ],
      "metadata": {
        "id": "epgzrFKq0ZHy"
      }
    },
    {
      "cell_type": "code",
      "source": [
        "#Se grafican mapas de dispersion de las 3 variables: '24_burnout', '2_current_permanent_employees' y '145_number_direct_competitors'\n",
        "from turtle import color\n",
        "\n",
        "sns.scatterplot(x='103_number_own_fridges', y='268_number_fridges', color='blue', data=df)\n",
        "sns.scatterplot(x='172_supplier_frequency', y='268_number_fridges', color='red', data=df)\n",
        "sns.scatterplot(x='24_burnout', y='268_number_fridges', color='yellow', data=df)"
      ],
      "metadata": {
        "id": "82fERo6l1HCE"
      },
      "execution_count": null,
      "outputs": []
    },
    {
      "cell_type": "code",
      "source": [
        "#Declaramos las variables dependientes e independientes para la regresión lineal.\n",
        "#Vars_Indep= df[['alcohol', 'speeding', 'no_previous']]\n",
        "Vars_Indep= df[['103_number_own_fridges', '172_supplier_frequency', '24_burnout']]\n",
        "Var_Dep= df['268_number_fridges']"
      ],
      "metadata": {
        "id": "GR5uepZu22NU"
      },
      "execution_count": null,
      "outputs": []
    },
    {
      "cell_type": "markdown",
      "source": [
        "**Regresión logística**"
      ],
      "metadata": {
        "id": "eOv9uqmFSU0G"
      }
    },
    {
      "cell_type": "code",
      "source": [
        "#Cargar archivo csv desde equipo\n",
        "from google.colab import files\n",
        "files.upload()"
      ],
      "metadata": {
        "id": "1NROd9YfynJf"
      },
      "execution_count": null,
      "outputs": []
    },
    {
      "cell_type": "code",
      "source": [
        "#Carga desde un archivo .csv sin indice\n",
        "df= pd.read_csv('Datos_limpios_Micro_retailer_actualizado.csv')\n",
        "df.head(5)"
      ],
      "metadata": {
        "id": "ttLGQsIZyx5a"
      },
      "execution_count": null,
      "outputs": []
    },
    {
      "cell_type": "code",
      "source": [
        "#Rellenamos nulos dentro del condigo \n",
        "df=df.fillna(method='ffill')"
      ],
      "metadata": {
        "id": "MLmLTNmqy1om"
      },
      "execution_count": null,
      "outputs": []
    },
    {
      "cell_type": "markdown",
      "source": [
        "1"
      ],
      "metadata": {
        "id": "ZKS8AyD5r5th"
      }
    },
    {
      "cell_type": "code",
      "source": [
        "#Declaramos las variables dependientes e independientes para la regresión logística.\n",
        "Vars_Indep= df[['97_number_of_customers_in_store', '317_home_deliveries', '2_current_permanent_employees']]\n",
        "Var_Dep= df['186_internet_connection']"
      ],
      "metadata": {
        "id": "d37FS_eOzuQW"
      },
      "execution_count": null,
      "outputs": []
    },
    {
      "cell_type": "code",
      "source": [
        "#Redefinimos las variables\n",
        "X= Vars_Indep \n",
        "y= Var_Dep"
      ],
      "metadata": {
        "id": "xdSXi7HSz_dj"
      },
      "execution_count": null,
      "outputs": []
    },
    {
      "cell_type": "code",
      "source": [
        "#Dividimos el conjunto de datos en la parte de entrenamiento y pruba:\n",
        "X_train, X_test, y_train, y_test = train_test_split(X,y, test_size=0.3, random_state=None)"
      ],
      "metadata": {
        "id": "lnk0mKho0Bvs"
      },
      "execution_count": null,
      "outputs": []
    },
    {
      "cell_type": "code",
      "source": [
        "#Se escalan todos los datos \n",
        "escalar= StandardScaler()"
      ],
      "metadata": {
        "id": "1Q_dhoKY0DxL"
      },
      "execution_count": null,
      "outputs": []
    },
    {
      "cell_type": "code",
      "source": [
        "#Para realizar el escalamiento de las variables \"X\" tanto de entrenamiento como de prueba \n",
        "X_train=escalar.fit_transform(X_train)\n",
        "X_test= escalar.transform(X_test)"
      ],
      "metadata": {
        "id": "zVTaEY7j0GbZ"
      },
      "execution_count": null,
      "outputs": []
    },
    {
      "cell_type": "code",
      "source": [
        "#Definimos el algoritmo a utilizar \n",
        "from sklearn.linear_model import LogisticRegression\n",
        "algoritmo=LogisticRegression()"
      ],
      "metadata": {
        "id": "l6KIopguzxEB"
      },
      "execution_count": null,
      "outputs": []
    },
    {
      "cell_type": "code",
      "source": [
        "#Entrenamos el modelo\n",
        "algoritmo.fit(X_train, y_train)"
      ],
      "metadata": {
        "id": "kRUvkzB_jqdL",
        "colab": {
          "base_uri": "https://localhost:8080/"
        },
        "outputId": "09395614-6e91-4e45-ab52-4962b0443961"
      },
      "execution_count": null,
      "outputs": [
        {
          "output_type": "execute_result",
          "data": {
            "text/plain": [
              "LogisticRegression()"
            ]
          },
          "metadata": {},
          "execution_count": 136
        }
      ]
    },
    {
      "cell_type": "code",
      "source": [
        "#Realizamos una predicción\n",
        "y_pred = algoritmo.predict(X_test)\n",
        "y_pred"
      ],
      "metadata": {
        "id": "PmLWuEfvmlDI",
        "colab": {
          "base_uri": "https://localhost:8080/"
        },
        "outputId": "e2de4d58-f1c8-4ff4-face-034036690e58"
      },
      "execution_count": null,
      "outputs": [
        {
          "output_type": "execute_result",
          "data": {
            "text/plain": [
              "array(['no', 'yes', 'yes', 'yes', 'yes', 'yes', 'yes', 'yes', 'yes',\n",
              "       'yes', 'yes', 'yes', 'yes', 'yes', 'yes', 'yes', 'yes', 'yes',\n",
              "       'yes', 'yes', 'no', 'yes', 'yes', 'yes', 'yes', 'yes', 'yes',\n",
              "       'yes', 'yes', 'yes', 'no', 'yes', 'yes', 'yes', 'yes', 'yes',\n",
              "       'yes', 'yes', 'yes', 'yes', 'yes', 'no', 'yes', 'no', 'yes', 'yes',\n",
              "       'yes', 'yes', 'yes', 'yes', 'yes', 'yes', 'yes', 'yes', 'yes',\n",
              "       'yes', 'no', 'yes', 'yes', 'yes', 'yes', 'yes', 'yes', 'yes',\n",
              "       'yes', 'yes', 'yes', 'yes', 'no', 'yes', 'yes', 'yes', 'yes', 'no',\n",
              "       'yes', 'yes', 'yes', 'yes', 'yes', 'yes', 'yes', 'yes', 'yes',\n",
              "       'yes', 'yes', 'yes', 'yes', 'no', 'yes', 'yes', 'yes', 'yes',\n",
              "       'yes', 'yes', 'yes', 'yes', 'yes', 'yes', 'yes'], dtype=object)"
            ]
          },
          "metadata": {},
          "execution_count": 137
        }
      ]
    },
    {
      "cell_type": "code",
      "source": [
        "#Verifico matriz de confusión\n",
        "from sklearn.metrics import confusion_matrix\n",
        "matriz = confusion_matrix(y_test, y_pred)\n",
        "print('Matriz de Confusión')\n",
        "print(matriz)"
      ],
      "metadata": {
        "id": "mD4-ZYZtmoEr",
        "colab": {
          "base_uri": "https://localhost:8080/"
        },
        "outputId": "8fdab858-233d-4578-81b6-f118f8b7c841"
      },
      "execution_count": null,
      "outputs": [
        {
          "output_type": "stream",
          "name": "stdout",
          "text": [
            "Matriz de Confusión\n",
            "[[ 3 22]\n",
            " [ 6 68]]\n"
          ]
        }
      ]
    },
    {
      "cell_type": "code",
      "source": [
        "#Calculo la precisión del modelo\n",
        "from sklearn.metrics import precision_score\n",
        "\n",
        "precision = precision_score(y_test, y_pred, average='binary', pos_label=\"yes\")\n",
        "print('Precision del modelo:')\n",
        "print(precision)"
      ],
      "metadata": {
        "id": "BoSiaiVamrBo",
        "colab": {
          "base_uri": "https://localhost:8080/"
        },
        "outputId": "dfb0cfa7-4653-4937-ecc3-95ffcc11f55f"
      },
      "execution_count": null,
      "outputs": [
        {
          "output_type": "stream",
          "name": "stdout",
          "text": [
            "Precision del modelo:\n",
            "0.7555555555555555\n"
          ]
        }
      ]
    },
    {
      "cell_type": "code",
      "source": [
        "#Calculo la exactitud del modelo\n",
        "from sklearn.metrics import accuracy_score\n",
        "exactitud = accuracy_score(y_test, y_pred)\n",
        "print('Exactitud del modelo:')\n",
        "print(exactitud)"
      ],
      "metadata": {
        "id": "amj9vsVWmtea",
        "colab": {
          "base_uri": "https://localhost:8080/"
        },
        "outputId": "ab02024b-489d-4488-84f5-bed2f24a7b97"
      },
      "execution_count": null,
      "outputs": [
        {
          "output_type": "stream",
          "name": "stdout",
          "text": [
            "Exactitud del modelo:\n",
            "0.7171717171717171\n"
          ]
        }
      ]
    },
    {
      "cell_type": "code",
      "source": [
        "#Calculo la sensibilidad del modelo\n",
        "from sklearn.metrics import recall_score\n",
        "\n",
        "sensibilidad = recall_score(y_test, y_pred, average=\"binary\", pos_label=\"yes\")\n",
        "print('Sensibilidad del modelo:')\n",
        "print(sensibilidad)"
      ],
      "metadata": {
        "id": "d6u861IYmwFb",
        "colab": {
          "base_uri": "https://localhost:8080/"
        },
        "outputId": "c7c1089c-2616-4f94-d4ea-e3379df8a777"
      },
      "execution_count": null,
      "outputs": [
        {
          "output_type": "stream",
          "name": "stdout",
          "text": [
            "Sensibilidad del modelo:\n",
            "0.918918918918919\n"
          ]
        }
      ]
    },
    {
      "cell_type": "markdown",
      "source": [
        "2"
      ],
      "metadata": {
        "id": "KBATA6pJr-Z6"
      }
    },
    {
      "cell_type": "code",
      "source": [
        "#Declaramos las variables dependientes e independientes para la regresión logística.\n",
        "Vars_Indep= df[['104_how_many_shelves_does_the_micro_retailer_have', '172_supplier_frequency', '103_number_own_fridges']]\n",
        "Var_Dep= df['20_reviews_finances_monthly']"
      ],
      "metadata": {
        "id": "YryTcrPjoOPJ"
      },
      "execution_count": null,
      "outputs": []
    },
    {
      "cell_type": "code",
      "source": [
        "#Redefinimos las variables\n",
        "X= Vars_Indep \n",
        "y= Var_Dep"
      ],
      "metadata": {
        "id": "tD3VUl5eqNc5"
      },
      "execution_count": null,
      "outputs": []
    },
    {
      "cell_type": "code",
      "source": [
        "#Dividimos el conjunto de datos en la parte de entrenamiento y pruba:\n",
        "X_train, X_test, y_train, y_test = train_test_split(X,y, test_size=0.3, random_state=None)"
      ],
      "metadata": {
        "id": "w9eN_XGYqV1p"
      },
      "execution_count": null,
      "outputs": []
    },
    {
      "cell_type": "code",
      "source": [
        "#Se escalan todos los datos \n",
        "escalar= StandardScaler()"
      ],
      "metadata": {
        "id": "8OBf5P8eqrPj"
      },
      "execution_count": null,
      "outputs": []
    },
    {
      "cell_type": "code",
      "source": [
        "#Para realizar el escalamiento de las variables \"A\" tanto de entrenamiento como de prueba \n",
        "X_train=escalar.fit_transform(X_train)\n",
        "X_test= escalar.transform(X_test)"
      ],
      "metadata": {
        "id": "ZtwHJo2uqt7z"
      },
      "execution_count": null,
      "outputs": []
    },
    {
      "cell_type": "code",
      "source": [
        "#Definimos el algoritmo a utilizar \n",
        "from sklearn.linear_model import LogisticRegression\n",
        "algoritmo=LogisticRegression()"
      ],
      "metadata": {
        "id": "9As1mCxiqy_B"
      },
      "execution_count": null,
      "outputs": []
    },
    {
      "cell_type": "code",
      "source": [
        "#Entrenamos el modelo\n",
        "algoritmo.fit(X_train, y_train)"
      ],
      "metadata": {
        "id": "laitxCgnq1xY",
        "colab": {
          "base_uri": "https://localhost:8080/"
        },
        "outputId": "8e0d0513-3684-4bce-b3e5-92f58774cf1c"
      },
      "execution_count": null,
      "outputs": [
        {
          "output_type": "execute_result",
          "data": {
            "text/plain": [
              "LogisticRegression()"
            ]
          },
          "metadata": {},
          "execution_count": 148
        }
      ]
    },
    {
      "cell_type": "code",
      "source": [
        "#Realizamos una predicción\n",
        "y_pred = algoritmo.predict(X_test)\n",
        "y_pred"
      ],
      "metadata": {
        "id": "SmwaCFpfq6vy",
        "colab": {
          "base_uri": "https://localhost:8080/"
        },
        "outputId": "75fa983e-2f6f-4b3f-af33-4baaed7da6a9"
      },
      "execution_count": null,
      "outputs": [
        {
          "output_type": "execute_result",
          "data": {
            "text/plain": [
              "array(['yes', 'yes', 'yes', 'yes', 'yes', 'yes', 'yes', 'yes', 'yes',\n",
              "       'yes', 'yes', 'yes', 'yes', 'yes', 'yes', 'yes', 'yes', 'yes',\n",
              "       'yes', 'yes', 'yes', 'yes', 'yes', 'yes', 'yes', 'yes', 'yes',\n",
              "       'yes', 'yes', 'yes', 'yes', 'yes', 'yes', 'yes', 'yes', 'yes',\n",
              "       'yes', 'yes', 'yes', 'yes', 'yes', 'yes', 'yes', 'yes', 'yes',\n",
              "       'yes', 'yes', 'yes', 'yes', 'yes', 'yes', 'yes', 'yes', 'yes',\n",
              "       'yes', 'yes', 'yes', 'yes', 'yes', 'yes', 'yes', 'yes', 'yes',\n",
              "       'yes', 'yes', 'yes', 'yes', 'yes', 'yes', 'yes', 'yes', 'yes',\n",
              "       'yes', 'yes', 'yes', 'yes', 'yes', 'yes', 'yes', 'yes', 'yes',\n",
              "       'yes', 'yes', 'yes', 'yes', 'yes', 'yes', 'yes', 'yes', 'yes',\n",
              "       'yes', 'yes', 'yes', 'yes', 'yes', 'yes', 'yes', 'yes', 'yes'],\n",
              "      dtype=object)"
            ]
          },
          "metadata": {},
          "execution_count": 152
        }
      ]
    },
    {
      "cell_type": "code",
      "source": [
        "#Verifico matriz de confusión\n",
        "from sklearn.metrics import confusion_matrix\n",
        "matriz = confusion_matrix(y_test, y_pred)\n",
        "print('Matriz de Confusión')\n",
        "print(matriz)"
      ],
      "metadata": {
        "id": "xF8yO8xRrAjS",
        "colab": {
          "base_uri": "https://localhost:8080/"
        },
        "outputId": "aaff9a22-8756-4f98-f57b-acb632cf4d5a"
      },
      "execution_count": null,
      "outputs": [
        {
          "output_type": "stream",
          "name": "stdout",
          "text": [
            "Matriz de Confusión\n",
            "[[ 0 29]\n",
            " [ 0 70]]\n"
          ]
        }
      ]
    },
    {
      "cell_type": "code",
      "source": [
        "#Calculo la precisión del modelo\n",
        "from sklearn.metrics import precision_score\n",
        "\n",
        "precision = precision_score(y_test, y_pred, average='binary', pos_label=\"yes\")\n",
        "print('Precision del modelo:')\n",
        "print(precision)"
      ],
      "metadata": {
        "id": "W0p-G1l8rFtw",
        "colab": {
          "base_uri": "https://localhost:8080/"
        },
        "outputId": "0e4b8f45-e806-4e0e-f7af-f880ec8c9652"
      },
      "execution_count": null,
      "outputs": [
        {
          "output_type": "stream",
          "name": "stdout",
          "text": [
            "Precision del modelo:\n",
            "0.7070707070707071\n"
          ]
        }
      ]
    },
    {
      "cell_type": "code",
      "source": [
        "#Calculo la exactitud del modelo\n",
        "from sklearn.metrics import accuracy_score\n",
        "exactitud = accuracy_score(y_test, y_pred)\n",
        "print('Exactitud del modelo:')\n",
        "print(exactitud)"
      ],
      "metadata": {
        "id": "Q_SL4OeJrKBh",
        "colab": {
          "base_uri": "https://localhost:8080/"
        },
        "outputId": "5ab57201-f175-46f4-8035-e924b195bf16"
      },
      "execution_count": null,
      "outputs": [
        {
          "output_type": "stream",
          "name": "stdout",
          "text": [
            "Exactitud del modelo:\n",
            "0.7070707070707071\n"
          ]
        }
      ]
    },
    {
      "cell_type": "code",
      "source": [
        "#Calculo la sensibilidad del modelo\n",
        "from sklearn.metrics import recall_score\n",
        "\n",
        "sensibilidad = recall_score(y_test, y_pred, average=\"binary\", pos_label=\"yes\")\n",
        "print('Sensibilidad del modelo:')\n",
        "print(sensibilidad)"
      ],
      "metadata": {
        "id": "sjYJFfpGrRKD",
        "colab": {
          "base_uri": "https://localhost:8080/"
        },
        "outputId": "978d6175-b914-42cc-9eec-9d39482fd1ba"
      },
      "execution_count": null,
      "outputs": [
        {
          "output_type": "stream",
          "name": "stdout",
          "text": [
            "Sensibilidad del modelo:\n",
            "1.0\n"
          ]
        }
      ]
    },
    {
      "cell_type": "markdown",
      "source": [
        "3"
      ],
      "metadata": {
        "id": "OQVLoGePsddI"
      }
    },
    {
      "cell_type": "code",
      "source": [
        "#Declaramos las variables dependientes e independientes para la regresión logística.\n",
        "Vars_Indep= df[['97_number_of_customers_in_store', '317_home_deliveries', '2_current_permanent_employees']]\n",
        "Var_Dep= df['310_burnout']"
      ],
      "metadata": {
        "id": "OPg1dyBxsfoo"
      },
      "execution_count": null,
      "outputs": []
    },
    {
      "cell_type": "code",
      "source": [
        "#Redefinimos las variables\n",
        "X= Vars_Indep \n",
        "y= Var_Dep"
      ],
      "metadata": {
        "id": "_mDBQAgftb8e"
      },
      "execution_count": null,
      "outputs": []
    },
    {
      "cell_type": "code",
      "source": [
        "#Dividimos el conjunto de datos en la parte de entrenamiento y pruba:\n",
        "X_train, X_test, y_train, y_test = train_test_split(X,y, test_size=0.3, random_state=None)"
      ],
      "metadata": {
        "id": "XJ1Ll2xKtdeJ"
      },
      "execution_count": null,
      "outputs": []
    },
    {
      "cell_type": "code",
      "source": [
        "#Se escalan todos los datos \n",
        "escalar= StandardScaler()"
      ],
      "metadata": {
        "id": "yOmNRP7qte7j"
      },
      "execution_count": null,
      "outputs": []
    },
    {
      "cell_type": "code",
      "source": [
        "#Para realizar el escalamiento de las variables \"X\" tanto de entrenamiento como de prueba \n",
        "X_train=escalar.fit_transform(X_train)\n",
        "X_test= escalar.transform(X_test)"
      ],
      "metadata": {
        "id": "HFco7-8uthA6"
      },
      "execution_count": null,
      "outputs": []
    },
    {
      "cell_type": "code",
      "source": [
        "#Definimos el algoritmo a utilizar \n",
        "from sklearn.linear_model import LogisticRegression\n",
        "algoritmo=LogisticRegression()"
      ],
      "metadata": {
        "id": "pk1AuaG8tidZ"
      },
      "execution_count": null,
      "outputs": []
    },
    {
      "cell_type": "code",
      "source": [
        "#Entrenamos el modelo \n",
        "algoritmo.fit(X_train, y_train)"
      ],
      "metadata": {
        "id": "1mv4BLgLtkOa",
        "colab": {
          "base_uri": "https://localhost:8080/"
        },
        "outputId": "1aa42e68-c3b0-44b5-b60a-11df4baf76d6"
      },
      "execution_count": null,
      "outputs": [
        {
          "output_type": "execute_result",
          "data": {
            "text/plain": [
              "LogisticRegression()"
            ]
          },
          "metadata": {},
          "execution_count": 163
        }
      ]
    },
    {
      "cell_type": "code",
      "source": [
        "#Realiamos una prediccion \n",
        "y_pred=algoritmo.predict(X_test)\n",
        "#y_pred_df = pd.DataFrame(y_pred)\n",
        "y_pred"
      ],
      "metadata": {
        "id": "_j32J_vYtmzB",
        "colab": {
          "base_uri": "https://localhost:8080/"
        },
        "outputId": "1917abab-4a90-443b-ea1d-3e73cf85e5a8"
      },
      "execution_count": null,
      "outputs": [
        {
          "output_type": "execute_result",
          "data": {
            "text/plain": [
              "array(['no', 'no', 'no', 'no', 'no', 'no', 'yes', 'no', 'no', 'no', 'no',\n",
              "       'no', 'no', 'no', 'no', 'yes', 'no', 'yes', 'no', 'no', 'no', 'no',\n",
              "       'no', 'no', 'no', 'no', 'no', 'no', 'no', 'yes', 'yes', 'no', 'no',\n",
              "       'no', 'no', 'no', 'no', 'yes', 'no', 'yes', 'no', 'no', 'no', 'no',\n",
              "       'no', 'yes', 'no', 'no', 'yes', 'no', 'yes', 'no', 'no', 'no',\n",
              "       'no', 'no', 'no', 'no', 'yes', 'no', 'no', 'no', 'no', 'no', 'no',\n",
              "       'no', 'no', 'yes', 'yes', 'no', 'no', 'no', 'no', 'no', 'yes',\n",
              "       'no', 'yes', 'no', 'yes', 'no', 'no', 'no', 'no', 'yes', 'yes',\n",
              "       'no', 'no', 'no', 'yes', 'no', 'yes', 'yes', 'no', 'no', 'no',\n",
              "       'yes', 'yes', 'no', 'no'], dtype=object)"
            ]
          },
          "metadata": {},
          "execution_count": 164
        }
      ]
    },
    {
      "cell_type": "code",
      "source": [
        "#Verifico matriz de confusión\n",
        "from sklearn.metrics import confusion_matrix\n",
        "matriz = confusion_matrix(y_test, y_pred)\n",
        "print('Matriz de Confusión')\n",
        "print(matriz)"
      ],
      "metadata": {
        "id": "2EKj2hO9t1xS",
        "colab": {
          "base_uri": "https://localhost:8080/"
        },
        "outputId": "0a5e57b3-856f-423c-d185-1d7c72f0b61f"
      },
      "execution_count": null,
      "outputs": [
        {
          "output_type": "stream",
          "name": "stdout",
          "text": [
            "Matriz de Confusión\n",
            "[[41 11]\n",
            " [35 12]]\n"
          ]
        }
      ]
    },
    {
      "cell_type": "code",
      "source": [
        "#Calculo la precisión del modelo\n",
        "from sklearn.metrics import precision_score\n",
        "\n",
        "precision = precision_score(y_test, y_pred, average='binary', pos_label=\"yes\")\n",
        "print('Precision del modelo:')\n",
        "print(precision)"
      ],
      "metadata": {
        "id": "31ohnnozt6FR",
        "colab": {
          "base_uri": "https://localhost:8080/"
        },
        "outputId": "17c545b1-467e-44d0-bb4a-492c79c97db9"
      },
      "execution_count": null,
      "outputs": [
        {
          "output_type": "stream",
          "name": "stdout",
          "text": [
            "Precision del modelo:\n",
            "0.5217391304347826\n"
          ]
        }
      ]
    },
    {
      "cell_type": "code",
      "source": [
        "#Calculo la exactitud del modelo\n",
        "from sklearn.metrics import accuracy_score\n",
        "exactitud = accuracy_score(y_test, y_pred)\n",
        "print('Exactitud del modelo:')\n",
        "print(exactitud)"
      ],
      "metadata": {
        "id": "VKqViReLt9MR",
        "colab": {
          "base_uri": "https://localhost:8080/"
        },
        "outputId": "0765c5e4-d036-40dc-a676-b062d73779cb"
      },
      "execution_count": null,
      "outputs": [
        {
          "output_type": "stream",
          "name": "stdout",
          "text": [
            "Exactitud del modelo:\n",
            "0.5353535353535354\n"
          ]
        }
      ]
    },
    {
      "cell_type": "code",
      "source": [
        "#Calculo la sensibilidad del modelo\n",
        "from sklearn.metrics import recall_score\n",
        "\n",
        "sensibilidad = recall_score(y_test, y_pred, average=\"binary\", pos_label=\"yes\")\n",
        "print('Sensibilidad del modelo:')\n",
        "print(sensibilidad)"
      ],
      "metadata": {
        "id": "_uJWp3GluA1r",
        "colab": {
          "base_uri": "https://localhost:8080/"
        },
        "outputId": "34ad3e4a-2203-43fb-f8c5-7f610f3b641b"
      },
      "execution_count": null,
      "outputs": [
        {
          "output_type": "stream",
          "name": "stdout",
          "text": [
            "Sensibilidad del modelo:\n",
            "0.2553191489361702\n"
          ]
        }
      ]
    }
  ]
}